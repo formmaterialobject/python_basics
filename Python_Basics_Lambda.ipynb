{
  "nbformat": 4,
  "nbformat_minor": 0,
  "metadata": {
    "colab": {
      "provenance": [],
      "authorship_tag": "ABX9TyMnnJJHQlQNMxF1RZnTSP5P"
    },
    "kernelspec": {
      "name": "python3",
      "display_name": "Python 3"
    },
    "language_info": {
      "name": "python"
    }
  },
  "cells": [
    {
      "cell_type": "markdown",
      "source": [
        "##Lamda Funktion\n"
      ],
      "metadata": {
        "id": "ZeRwaWnZfHVg"
      }
    },
    {
      "cell_type": "markdown",
      "source": [
        "- auch anonyme Funktion,  \n",
        "- eine Funktion nur einmal gebraucht wird: Sie spart Platz und macht den Code lesbarer, da man nicht eine ganze Funktion für eine winzige Aufgabe definieren muss\n",
        "- Higher-Order-Funktionen\n",
        "\n",
        "-Keine Anweisungen: Sie kann nichts drucken oder Zuweisungen vornehmen. Sie kann nur einen Wert zurückgeben, den das Ergebnis des Ausdrucks ist.\n",
        "\n",
        "\n",
        "---\n",
        "\n",
        "\n",
        "- *lambda Argumente: Ausdruck*\n",
        "\n",
        "\n",
        "---\n",
        "\n",
        "\n",
        "Im Einzelnen:\n",
        "- **lambda**: Das ist das Schlüsselwort, das eine Lambda-Funktion definiert.\n",
        "\n",
        "- **Argumente**: Das sind die Eingabewerte, die die Lambda-Funktion entgegennimmt (können auch mehrere sein).\n",
        "\n",
        "- Ausdruck: Das ist die Operation, die mit den Argumenten ausgeführt wird. Der Wert dieses Ausdrucks ist der Rückgabewert der Funktion."
      ],
      "metadata": {
        "id": "GhXN_q7UekGK"
      }
    },
    {
      "cell_type": "code",
      "execution_count": null,
      "metadata": {
        "id": "tUjDiLUxfD9j",
        "colab": {
          "base_uri": "https://localhost:8080/"
        },
        "outputId": "c567c4b8-b4dc-48ab-bdde-5f552014e572"
      },
      "outputs": [
        {
          "output_type": "stream",
          "name": "stdout",
          "text": [
            "3\n",
            "3\n"
          ]
        }
      ],
      "source": [
        "def make_sum(a, b):\n",
        "  return a + b\n",
        "\n",
        "print(make_sum(1, 2))\n",
        "\n",
        "#same same but different:\n",
        "\n",
        "get_sum = lambda a, b: a + b\n",
        "print(get_sum(1, 2))\n"
      ]
    },
    {
      "cell_type": "markdown",
      "source": [
        "- Lambda-Funktionen sind kompakt\n",
        "- liefern schöne Einzeiler\n",
        "\n",
        "Z. b. bei sorted()\n",
        "- Die Funktion sorted() hat als erstes Arguement ein iterierbares Objekt erhalten, (hier: eine Liste mit Tuples: studenten) die sortiert werden soll.\n",
        "- sorted() beginnt die Liste Element für Element durchzugehen, um für jedes davon einen temporären Sortierwert zu ermitteln.\n",
        "- Das zweite Argument, die Funktion get_age wird \"**Key**\" zugewiesen. Diese Funktion wird **nicht** ausgeführt!!!"
      ],
      "metadata": {
        "id": "a_pU-xIjxLg1"
      }
    },
    {
      "cell_type": "code",
      "source": [
        "studenten = [(\"Pete\", 26),(\"Max\", 28),(\"Tim\", 22)]\n",
        "\n",
        "def get_age(student):\n",
        "  return student[1]\n",
        "\n",
        "print(sorted(studenten, key=get_age))"
      ],
      "metadata": {
        "colab": {
          "base_uri": "https://localhost:8080/"
        },
        "id": "oOxQqGNA_prL",
        "outputId": "fbcaaf5e-4df3-4499-91aa-d23c9521345a"
      },
      "execution_count": null,
      "outputs": [
        {
          "output_type": "stream",
          "name": "stdout",
          "text": [
            "[('Tim', 22), ('Pete', 26), ('Max', 28)]\n"
          ]
        }
      ]
    },
    {
      "cell_type": "markdown",
      "source": [
        "**Was macht Python:**\n",
        "1. sort(studenten, key = get_age) nimmt das erste Element aus studenten, also (\"Pete\", 26).\n",
        "2. **Es übergibt dieses Element als Argument an die Funktion, die in key steht.**\n",
        "3. Innerhalb der get_age-Funktion wird (student) zu \"Pete\", 26 und arbeitet damit und\n",
        "4. return gibt den Wert 26 aus - sorted() merkt sich: Für Pete ist der Sortierwert 26\n",
        "5. Danach nimmt Python das nächste Element aus der studenten-Liste, (\"Max\", 28)\n",
        "6. Python übergibt auch dieses Element an die Funktion:\n",
        "Innerhalb von get_age, wird studenten(tubpel) nun zu (\"Max\", 28).\n",
        "\n",
        "7. Und so weiter."
      ],
      "metadata": {
        "id": "nM8YiuwhAzyX"
      }
    },
    {
      "cell_type": "code",
      "source": [
        "#statt die get_age Funktion kanneine schicke Lambda Funktion eingesetzt werden:\n",
        "sorted_studenten = (sorted(studenten, key=lambda student: student[1]))\n",
        "for each_student in sorted_studenten:\n",
        "  print(each_student[0])"
      ],
      "metadata": {
        "colab": {
          "base_uri": "https://localhost:8080/"
        },
        "id": "e9Wgm0V_ACUm",
        "outputId": "34bf2310-e0d4-475f-927c-1879d7965a14"
      },
      "execution_count": null,
      "outputs": [
        {
          "output_type": "stream",
          "name": "stdout",
          "text": [
            "Tim\n",
            "Pete\n",
            "Max\n"
          ]
        }
      ]
    },
    {
      "cell_type": "markdown",
      "source": [
        "sorted() und die Lambda-Funktion arbeiten ähnlich wie eben:\n",
        "sorted() beginnt, die Liste studenten Element für Element durchzugehen, um für jedes Element einen temporären Sortierwert zu ermitteln.\n",
        "\n",
        "- Erstes Element: sorted() nimmt (\"Pete\", 26) und übergibt es an die Lambda-Funktion.\n",
        "- student wird in der Funktion intern zu (\"Pete\", 26).\n",
        "- Lambda gibt mit student[1] den Wert 26 zurück und sorted() speichert diesen.\n",
        "\n",
        "Das ganze geht jetzt so weiter:\n",
        "- Zweites Element: sorted() nimmt (\"Max\", 28) und übergibt es an die Lambda-Funktion.\n",
        "- jetzt wird das student-Arguement in der Lambda-Funktion zu (\"Max\", 28).\n",
        "- student[1] gibt 28 zurück.\n",
        "usw...\n",
        "\n",
        "sorted() hat nun die Sortierwerte [26, 28, 22] gesammelt. Es sortiert die ursprünglichen Elemente jetzt basierend auf diesen Werten in aufsteigender Reihenfolge.\n",
        "\n",
        "Die Lambda-Funktion hat hier als einfache, anonyme Hilfsfunktion gedient, um sorted() zu sagen, nach welchem Teil jedes Elements es sortieren soll."
      ],
      "metadata": {
        "id": "QnjQ2EGM-iwc"
      }
    },
    {
      "cell_type": "code",
      "source": [],
      "metadata": {
        "id": "v5Dc63C0ApDN"
      },
      "execution_count": null,
      "outputs": []
    }
  ]
}