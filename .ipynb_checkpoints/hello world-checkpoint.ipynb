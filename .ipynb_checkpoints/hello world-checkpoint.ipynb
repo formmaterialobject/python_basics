{
 "cells": [
  {
   "cell_type": "code",
   "execution_count": 3,
   "id": "d2a132b7-9b63-408d-8b26-505325804e75",
   "metadata": {},
   "outputs": [],
   "source": [
    "## Baiscs in Python"
   ]
  },
  {
   "cell_type": "code",
   "execution_count": 4,
   "id": "fe646c85-4421-47e1-a55d-63285de8ec85",
   "metadata": {},
   "outputs": [
    {
     "name": "stdout",
     "output_type": "stream",
     "text": [
      "hello jupyther\n"
     ]
    }
   ],
   "source": [
    "print(\"hello jupyther\")"
   ]
  },
  {
   "cell_type": "code",
   "execution_count": null,
   "id": "4b7ce310-8f44-4e46-9214-7eb668aea735",
   "metadata": {},
   "outputs": [],
   "source": []
  }
 ],
 "metadata": {
  "kernelspec": {
   "display_name": "Python 3 (ipykernel)",
   "language": "python",
   "name": "python3"
  },
  "language_info": {
   "codemirror_mode": {
    "name": "ipython",
    "version": 3
   },
   "file_extension": ".py",
   "mimetype": "text/x-python",
   "name": "python",
   "nbconvert_exporter": "python",
   "pygments_lexer": "ipython3",
   "version": "3.13.6"
  }
 },
 "nbformat": 4,
 "nbformat_minor": 5
}
