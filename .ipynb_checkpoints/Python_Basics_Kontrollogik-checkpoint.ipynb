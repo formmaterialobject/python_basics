{
 "cells": [
  {
   "cell_type": "markdown",
   "metadata": {
    "id": "9VfsuT_XuFDM"
   },
   "source": [
    "# Python Basics"
   ]
  },
  {
   "cell_type": "markdown",
   "metadata": {
    "id": "MwCb3_D4uT2C"
   },
   "source": [
    "## **Kontrolllogik**\n",
    "Programme bestehen aus Anweisungen, die nacheinander ausgeführt werden.\n",
    "\n",
    "Kontrolllogik bestimmt, in welcher Reihenfolge diese Anweisungen laufen und unter welchen Bedingungen Teile des Programms ausgeführt oder auch übersprungen werden.\n",
    "\n",
    "Ohne Kontrolllogik würden Programme nur statisch von oben nach unten laufen. Erst durch Bedingungen, Schleifen und Steueranweisungen wird Programmcode:\n",
    "- dynamisch (reagiert auf Eingaben, Zustände oder Daten),\n",
    "- effizient (Wiederholungen automatisiert statt alles per Hand zu schreiben),\n",
    "- flexibel (anpassbar an unterschiedliche Situationen).\n",
    "\n",
    "Man kann die Kontrolllogik grob in drei Bereiche einteilen: Sequenz, Verzweigungen und Schleifen."
   ]
  },
  {
   "cell_type": "markdown",
   "metadata": {
    "id": "xJq0RMeXNhMG"
   },
   "source": [
    "## **1. Sequenz**\n",
    "Die einfachste Form: Anweisungen werden der Reihe nach von oben nach unten ausgeführt.\n",
    "→ Basisfluss (Standard)"
   ]
  },
  {
   "cell_type": "markdown",
   "metadata": {
    "id": "3-DbgiDfMYmF"
   },
   "source": [
    "## **2. Verzweigungen**\n",
    "steuern, ob und welcher Programmteil ausgeführt wird. => Bedingungen\n",
    "\n",
    "\n",
    "if-Anweisung: Führe etwas nur aus, wenn eine Bedingung wahr ist.\n",
    "\n",
    "* if-Anweisung: Führe etwas nur aus, wenn eine Bedingung wahr ist.\n",
    "* if-elif: Entweder der eine oder der andere Zweig wird ausgeführt.\n",
    "* if-elif-else (oder switch/case in manchen Sprachen): Mehrere Bedingungen werden nacheinander geprüft.\n",
    "\n"
   ]
  },
  {
   "cell_type": "markdown",
   "metadata": {
    "id": "51Ai10MJN5Xg"
   },
   "source": [
    "## **3. Schleifen**\n",
    "\n",
    "Schleifen (Iteration): bestimmen wie oft ein Programmteil ausgeführt wird.\n",
    "- Zählschleifen (for)\n",
    "Wiederholen eine feste Anzahl von Schritten.\n",
    "- Bedingungsschleifen (while)\n",
    ": Läuft so lange, bis die Bedingung nicht mehr gilt.\n"
   ]
  },
  {
   "cell_type": "markdown",
   "metadata": {
    "id": "pF_SFy_tOewZ"
   },
   "source": [
    "## **4. Schleifensteuerung**\n",
    "Viele Sprachen bieten Mechanismen, um Schleifen genauer zu steuern:\n",
    "break → beendet die Schleife sofort.\n",
    "continue → überspringt den Rest des aktuellen Durchlaufs und springt zur nächsten Wiederholung."
   ]
  },
  {
   "cell_type": "markdown",
   "metadata": {
    "id": "TqX9QIByuXO9"
   },
   "source": [
    "## **5. Erweiterte Kontrolllogik**\n",
    "\n",
    "In modernen Programmiersprachen gibt es noch mehr Mechanismen:\n",
    "\n",
    "- switch/case (alternativ zu vielen if-Abfragen)\n",
    "- try/catch (Fehlerbehandlung, steuert Programmfluss bei Ausnahmen)\n",
    "- Funktionen und Rekursion (statt Schleifen kann eine Funktion sich selbst wieder aufrufen)\n",
    "- Nebenläufigkeit (Threads, async/await): Mehrere Abläufe können parallel oder quasi gleichzeitig gesteuert werden."
   ]
  }
 ],
 "metadata": {
  "colab": {
   "provenance": []
  },
  "kernelspec": {
   "display_name": "Python 3 (ipykernel)",
   "language": "python",
   "name": "python3"
  },
  "language_info": {
   "codemirror_mode": {
    "name": "ipython",
    "version": 3
   },
   "file_extension": ".py",
   "mimetype": "text/x-python",
   "name": "python",
   "nbconvert_exporter": "python",
   "pygments_lexer": "ipython3",
   "version": "3.13.6"
  }
 },
 "nbformat": 4,
 "nbformat_minor": 4
}
